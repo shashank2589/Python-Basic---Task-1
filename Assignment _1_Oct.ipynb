{
 "cells": [
  {
   "cell_type": "markdown",
   "id": "284cdcfa",
   "metadata": {},
   "source": [
    "# Assignment"
   ]
  },
  {
   "cell_type": "code",
   "execution_count": null,
   "id": "ffe3404b",
   "metadata": {},
   "outputs": [],
   "source": [
    "#Q.1. What is indentation error? Why indentation is important? Give one simple example?\n",
    "\n",
    "#Ans.1. Indentation is nothing but a one \"tab\" space by default before the line of code. Without proper indentation your code won't run and an 
    #indentation error occurs. Indentation is very important as it represents the group of code and it's the way of telling the machine that which code 
    #has to be run first and in a proper sequence."
   ]
  },
  {
   "cell_type": "code",
   "execution_count": 2,
   "id": "831bc946",
   "metadata": {},
   "outputs": [
    {
     "ename": "IndentationError",
     "evalue": "unexpected indent (2000198034.py, line 5)",
     "output_type": "error",
     "traceback": [
      "\u001b[1;36m  Input \u001b[1;32mIn [2]\u001b[1;36m\u001b[0m\n\u001b[1;33m    print(value_1 * value_2)\u001b[0m\n\u001b[1;37m    ^\u001b[0m\n\u001b[1;31mIndentationError\u001b[0m\u001b[1;31m:\u001b[0m unexpected indent\n"
     ]
    }
   ],
   "source": [
    "# Example - 1\n",
    "value_1 = 25\n",
    "value_2 = 3\n",
    "# Here does'nt require indentation, hence the Indentation error is thrown\n",
    "    print(value_1 * value_2) "
   ]
  },
  {
   "cell_type": "code",
   "execution_count": 1,
   "id": "81751340",
   "metadata": {},
   "outputs": [
    {
     "ename": "IndentationError",
     "evalue": "expected an indented block (290017081.py, line 8)",
     "output_type": "error",
     "traceback": [
      "\u001b[1;36m  Input \u001b[1;32mIn [1]\u001b[1;36m\u001b[0m\n\u001b[1;33m    print(\"statement 2\")\u001b[0m\n\u001b[1;37m    ^\u001b[0m\n\u001b[1;31mIndentationError\u001b[0m\u001b[1;31m:\u001b[0m expected an indented block\n"
     ]
    }
   ],
   "source": [
    "# Example - 2\n",
    "n = 4\n",
    "\n",
    "if n >= 5:\n",
    "    print(\"statement 1\")\n",
    "else:\n",
    "    # Here require indentation, hence the Indentation error is thrown\n",
    "print(\"statement 2\") \n"
   ]
  },
  {
   "cell_type": "markdown",
   "id": "41f9dd1a",
   "metadata": {},
   "source": [
    "________________________________________"
   ]
  },
  {
   "cell_type": "code",
   "execution_count": null,
   "id": "347bd256",
   "metadata": {},
   "outputs": [],
   "source": [
    "#Q.2. Correct the following code and write the comment where you made the correction?\n",
    "  \n",
    "  class_started = bool(input(\"Hey friend, is class started?: [0-False/1-True]\"))\n",
    "\n",
    "  if class_started:\n",
    "      print(\"Since class started...\")\n",
    "      print(\"Lets concentrate\")\n",
    "  else:\n",
    "      print(\"Since class is not started...\")\n",
    "      print(\"let's revise\")    \n"
   ]
  },
  {
   "cell_type": "code",
   "execution_count": 4,
   "id": "0a82468d",
   "metadata": {},
   "outputs": [
    {
     "name": "stdout",
     "output_type": "stream",
     "text": [
      "Hey friend, is class started?: [0-False/1-True] 1\n",
      "Since class started...\n",
      "Lets concentrate\n"
     ]
    }
   ],
   "source": [
    "# type conversion to integer as input function always returns string value\n",
    "\n",
    "class_started = bool(int(input(\"Hey friend, is class started?: [0-False/1-True] \")))\n",
    "\n",
    "if class_started:\n",
    "    print(\"Since class started...\")\n",
    "    print(\"Lets concentrate\")\n",
    "else:\n",
    "    print(\"Since class is not started...\")\n",
    "    print(\"let's revise\")  "
   ]
  },
  {
   "cell_type": "markdown",
   "id": "3bd1d056",
   "metadata": {},
   "source": [
    "___"
   ]
  },
  {
   "cell_type": "code",
   "execution_count": null,
   "id": "b9aa1ff1",
   "metadata": {},
   "outputs": [],
   "source": [
    "Q.3. Use if else condition to verify that dataype of `input()` method in python is always string.\n",
    "\n",
    "#Ans.3. Output of input function will always be string. We have to convert the type of input() to either integer or float to perform mathemetical operations or convert to boolean to perform logical operations otherwise it will showing the following error (TypeError). The following examples verify that dataype of `input()` method in python is always string."
   ]
  },
  {
   "cell_type": "code",
   "execution_count": 157,
   "id": "d5b846f5",
   "metadata": {},
   "outputs": [
    {
     "name": "stdout",
     "output_type": "stream",
     "text": [
      "value of a : 16\n"
     ]
    },
    {
     "ename": "TypeError",
     "evalue": "'>' not supported between instances of 'str' and 'int'",
     "output_type": "error",
     "traceback": [
      "\u001b[1;31m---------------------------------------------------------------------------\u001b[0m",
      "\u001b[1;31mTypeError\u001b[0m                                 Traceback (most recent call last)",
      "Input \u001b[1;32mIn [157]\u001b[0m, in \u001b[0;36m<cell line: 5>\u001b[1;34m()\u001b[0m\n\u001b[0;32m      1\u001b[0m \u001b[38;5;66;03m# Example\u001b[39;00m\n\u001b[0;32m      3\u001b[0m a \u001b[38;5;241m=\u001b[39m \u001b[38;5;28minput\u001b[39m(\u001b[38;5;124m\"\u001b[39m\u001b[38;5;124mvalue of a : \u001b[39m\u001b[38;5;124m\"\u001b[39m) \n\u001b[1;32m----> 5\u001b[0m \u001b[38;5;28;01mif\u001b[39;00m \u001b[43ma\u001b[49m\u001b[43m \u001b[49m\u001b[38;5;241;43m>\u001b[39;49m\u001b[43m \u001b[49m\u001b[38;5;241;43m10\u001b[39;49m:\n\u001b[0;32m      6\u001b[0m     \u001b[38;5;28mprint\u001b[39m (\u001b[38;5;124m'\u001b[39m\u001b[38;5;124ma is greater than 10\u001b[39m\u001b[38;5;124m'\u001b[39m)\n\u001b[0;32m      7\u001b[0m \u001b[38;5;28;01melse\u001b[39;00m:\n",
      "\u001b[1;31mTypeError\u001b[0m: '>' not supported between instances of 'str' and 'int'"
     ]
    }
   ],
   "source": [
    "# Example\n",
    "\n",
    "a = input(\"value of a : \") \n",
    "\n",
    "if a > 10:\n",
    "    print ('a is greater than 10')\n",
    "else:\n",
    "    print('a is less than 10') \n"
   ]
  },
  {
   "cell_type": "code",
   "execution_count": 5,
   "id": "c6c72811",
   "metadata": {},
   "outputs": [
    {
     "name": "stdout",
     "output_type": "stream",
     "text": [
      "value of a : 16\n",
      "a is greater than 10\n"
     ]
    }
   ],
   "source": [
    "# typecast to integer using built-in int() function\n",
    "a = int(input(\"value of a : \")) \n",
    "\n",
    "if a > 10:\n",
    "    print ('a is greater than 10')\n",
    "else:\n",
    "    print('a is less than 10')\n",
    "    "
   ]
  },
  {
   "cell_type": "markdown",
   "id": "47c2a00b",
   "metadata": {},
   "source": [
    "_________\n"
   ]
  },
  {
   "cell_type": "code",
   "execution_count": null,
   "id": "73acb94a",
   "metadata": {},
   "outputs": [],
   "source": [
    "#Q.4. Take 3 variables and assign integer values to them. Find the largest variable, by only using the if and else conditions"
   ]
  },
  {
   "cell_type": "code",
   "execution_count": 11,
   "id": "09625176",
   "metadata": {},
   "outputs": [
    {
     "name": "stdout",
     "output_type": "stream",
     "text": [
      "The value of X : 7\n",
      "The value of Y : 2\n",
      "The value of Z : 6\n",
      "The largest variable is X : 7\n"
     ]
    }
   ],
   "source": [
    "X = int(input(\"The value of X : \"))\n",
    "Y = int(input(\"The value of Y : \"))\n",
    "Z = int(input(\"The value of Z : \"))\n",
    "      \n",
    "if X > Y:\n",
    "    if X > Z:\n",
    "        print(f\"The largest variable is X : {X}\")\n",
    "    else:\n",
    "        print(f\"The largest variable is Y : {Y}\")\n",
    "else:\n",
    "    if Y > Z:\n",
    "        print(f\"The largest variable is Y : {Y}\")\n",
    "    else:\n",
    "        print(f\"The largest variable is Z : {Z}\")  \n",
    "                "
   ]
  },
  {
   "cell_type": "markdown",
   "id": "935b7131",
   "metadata": {},
   "source": [
    "___"
   ]
  },
  {
   "cell_type": "code",
   "execution_count": null,
   "id": "aba22485",
   "metadata": {},
   "outputs": [],
   "source": [
    "Q.5. What would be the solution?\n",
    "    1. True\n",
    "    2. False\n",
    "    \n",
    "  a = 6\n",
    "  b = 10\n",
    "  print( not ( not a == 10 or not b == 10) )\n",
    "  \n",
    "#Ans.5. In above code 'a' is not equal to 10 i.e false & not operator returns true if the expression is false, same in case of b is equal to 10 i.e true & not operator returns false if the expression is true. In OR condional operator if any of the condition is true then answer is true & not operator outside the bracket returns false if the expression is true. So the solution to the given problem is False."
   ]
  },
  {
   "cell_type": "code",
   "execution_count": 5,
   "id": "0deb7316",
   "metadata": {},
   "outputs": [
    {
     "name": "stdout",
     "output_type": "stream",
     "text": [
      "False\n"
     ]
    }
   ],
   "source": [
    "a = 6\n",
    "b = 10\n",
    "print( not ( not a == 10 or not b == 10) )"
   ]
  },
  {
   "cell_type": "markdown",
   "id": "152ecab3",
   "metadata": {},
   "source": [
    "____"
   ]
  },
  {
   "cell_type": "code",
   "execution_count": null,
   "id": "970808d4",
   "metadata": {},
   "outputs": [],
   "source": [
    "Q.6. Find the answer as well as find out the reason behind the result? -\n",
    " \n",
    "    case 1:\n",
    "        A = 5.0\n",
    "        B = 10/2\n",
    "        print(A is B)\n",
    "        \n",
    "    case 2:\n",
    "        A = 5.0\n",
    "        B = int(10/2)\n",
    "        print(A is B)\n",
    "       \n",
    "    case 3:\n",
    "        A = 5.0\n",
    "        B = float(10/2)\n",
    "        print(A is B)"
   ]
  },
  {
   "cell_type": "code",
   "execution_count": 135,
   "id": "1d8ffd70",
   "metadata": {},
   "outputs": [
    {
     "name": "stdout",
     "output_type": "stream",
     "text": [
      "False\n"
     ]
    }
   ],
   "source": [
    "# Case - 1\n",
    "A = 5.0\n",
    "B = 10/2\n",
    "print(A is B) # Could'nt find out the reason behind the result"
   ]
  },
  {
   "cell_type": "code",
   "execution_count": 163,
   "id": "d4f1333d",
   "metadata": {},
   "outputs": [
    {
     "name": "stdout",
     "output_type": "stream",
     "text": [
      "False\n"
     ]
    }
   ],
   "source": [
    "# Case - 2\n",
    "A = 5.0\n",
    "B = int(10/2) # A is float & B is integer data type so they refer the different object, hence A is not B\n",
    "print(A is B)"
   ]
  },
  {
   "cell_type": "code",
   "execution_count": 164,
   "id": "c54be316",
   "metadata": {},
   "outputs": [
    {
     "name": "stdout",
     "output_type": "stream",
     "text": [
      "False\n"
     ]
    }
   ],
   "source": [
    "# Case - 3\n",
    "A = 5.0\n",
    "B = float(10/2)\n",
    "print(A is B) # Could'nt find out the reason behind the result"
   ]
  },
  {
   "cell_type": "markdown",
   "id": "341372c7",
   "metadata": {},
   "source": [
    "_____"
   ]
  },
  {
   "cell_type": "code",
   "execution_count": null,
   "id": "1c83fb5e",
   "metadata": {},
   "outputs": [],
   "source": [
    "#Q.7. Write a program that asks the user to enter a number. You should print out a message to the user, either “That number is divisible by either 3 or 5”, or “That number is not divisible by either 3 or 5”. Be sure to consider the data type of the input you are taking in from the user. Use a single if/else block to solve this problem."
   ]
  },
  {
   "cell_type": "code",
   "execution_count": 165,
   "id": "5cd92f2d",
   "metadata": {},
   "outputs": [
    {
     "name": "stdout",
     "output_type": "stream",
     "text": [
      "Enter the value of x : 12\n",
      "number is divisible by either 3 or 5\n"
     ]
    }
   ],
   "source": [
    "x = int(input (\"Enter the value of x : \"))\n",
    "\n",
    "if x % 3 == 0 or x % 5 == 0:\n",
    "    print(\"number is divisible by either 3 or 5\")\n",
    "else:\n",
    "    print(\"number is not divisible by either 3 or 5 \")"
   ]
  },
  {
   "cell_type": "markdown",
   "id": "b3c5d39a",
   "metadata": {},
   "source": [
    "_______"
   ]
  },
  {
   "cell_type": "code",
   "execution_count": null,
   "id": "93db4683",
   "metadata": {},
   "outputs": [],
   "source": [
    "#Q.8.Take user input for length and width. Then calculate the area of rectangle. Also print as per length and width whether its a square of rectangle."
   ]
  },
  {
   "cell_type": "code",
   "execution_count": 173,
   "id": "a23f4cfc",
   "metadata": {},
   "outputs": [
    {
     "name": "stdout",
     "output_type": "stream",
     "text": [
      "Enter the value of length :  12\n",
      "Enter the value of breadth : 12\n",
      "It's a square of rectangle and the area is 144\n"
     ]
    }
   ],
   "source": [
    "l = int(input (\"Enter the value of length :  \"))\n",
    "b = int(input (\"Enter the value of breadth : \"))\n",
    "\n",
    "if l > b or b > l:\n",
    "    print(f\"The area of rectangle is {l*b}\")\n",
    "else:\n",
    "    print(f\"It's a square of rectangle and the area is {l * b}\")"
   ]
  },
  {
   "cell_type": "markdown",
   "id": "5eac3254",
   "metadata": {},
   "source": [
    "____________"
   ]
  },
  {
   "cell_type": "code",
   "execution_count": null,
   "id": "d096acf4",
   "metadata": {},
   "outputs": [],
   "source": [
    "#Q.9.Take two variable radius_1 and radius_2 and calculate the area of circle_1 and circle_2. Also print which circle has large area. If area is equal then print area is equal."
   ]
  },
  {
   "cell_type": "code",
   "execution_count": 22,
   "id": "51ca1d0b",
   "metadata": {},
   "outputs": [
    {
     "name": "stdout",
     "output_type": "stream",
     "text": [
      "Enter the radius_1 : 7\n",
      "Enter the radius_2 : 14\n",
      "Area of circle 1 is 154.0\n",
      "Area of circle 2 is 616.0\n",
      "Area of circle 2 is greater than Area of circle 1\n"
     ]
    }
   ],
   "source": [
    "radius_1 = int(input(\"Enter the radius_1 : \"))\n",
    "radius_2 = int(input(\"Enter the radius_2 : \"))\n",
    "\n",
    "area_of_circle1 = float((22/7)*(radius_1)**2)\n",
    "area_of_circle2 = float((22/7)*(radius_2)**2)\n",
    "\n",
    "print(f\"Area of circle 1 is {area_of_circle1}\")\n",
    "print(f\"Area of circle 2 is {area_of_circle2}\")\n",
    "\n",
    "if area_of_circle1 > area_of_circle2:\n",
    "    print(\"Area of circle 1 is greater than Area of circle 2\")\n",
    "elif area_of_circle1==area_of_circle2:\n",
    "    print(\"Area of both the circles are equal\")\n",
    "else:\n",
    "    print(\"Area of circle 2 is greater than Area of circle 1\")\n"
   ]
  },
  {
   "cell_type": "markdown",
   "id": "77eeb665",
   "metadata": {},
   "source": [
    "________________________"
   ]
  },
  {
   "cell_type": "code",
   "execution_count": null,
   "id": "5649f209",
   "metadata": {},
   "outputs": [],
   "source": [
    "#Q.10.Check whether a year is leap year or not. Use nested if...else to solve this problem. A leap year is exactly divisible by 4 except for century years (years ending with 00). The century year is a leap year only if it is perfectly divisible by 400."
   ]
  },
  {
   "cell_type": "code",
   "execution_count": 28,
   "id": "25732ee9",
   "metadata": {},
   "outputs": [
    {
     "name": "stdout",
     "output_type": "stream",
     "text": [
      "Enter the year : 2016\n",
      "This Year is a Leap year\n"
     ]
    }
   ],
   "source": [
    "year = int(input (\"Enter the year : \"))\n",
    "\n",
    "if year % 4 == 0:\n",
    "    if year % 400 == 0:\n",
    "        print(\"This Year is a Century year\")\n",
    "    else:\n",
    "        print(\"This Year is a Leap year\")\n",
    "else:\n",
    "    if year % 400 == 0:\n",
    "        print(\"This Year is a Century year\")\n",
    "    else:\n",
    "        print(\"This Year is a niether a Leap year or Century year\")\n",
    "        "
   ]
  },
  {
   "cell_type": "markdown",
   "id": "6a13e08e",
   "metadata": {},
   "source": [
    "___________________________________________________________"
   ]
  }
 ],
 "metadata": {
  "kernelspec": {
   "display_name": "Python 3 (ipykernel)",
   "language": "python",
   "name": "python3"
  },
  "language_info": {
   "codemirror_mode": {
    "name": "ipython",
    "version": 3
   },
   "file_extension": ".py",
   "mimetype": "text/x-python",
   "name": "python",
   "nbconvert_exporter": "python",
   "pygments_lexer": "ipython3",
   "version": "3.9.12"
  }
 },
 "nbformat": 4,
 "nbformat_minor": 5
}
